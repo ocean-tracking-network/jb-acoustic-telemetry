{
 "cells": [
  {
   "cell_type": "code",
   "execution_count": 2,
   "metadata": {},
   "outputs": [
    {
     "name": "stdout",
     "output_type": "stream",
     "text": [
      "\n",
      "The downloaded binary packages are in\n",
      "\t/var/folders/q4/560b_v4n27b6gghbynw3d9ch0000gn/T//Rtmp3X3zX3/downloaded_packages\n"
     ]
    },
    {
     "name": "stderr",
     "output_type": "stream",
     "text": [
      "Downloading package from url: https://gitlab.oceantrack.org/GreatLakes/glatos/repository/master/archive.zip\n",
      "\n"
     ]
    },
    {
     "name": "stdout",
     "output_type": "stream",
     "text": [
      "cellranger   (NA          -> 1.1.0      ) [CRAN]\n",
      "data.table   (1.12.2      -> 1.12.6     ) [CRAN]\n",
      "fasterize    (NA          -> 1.0.0      ) [CRAN]\n",
      "fasttime     (NA          -> 1.0-2      ) [CRAN]\n",
      "gdalUtils    (NA          -> 2.0.1.14   ) [CRAN]\n",
      "gdistance    (NA          -> 1.2-2      ) [CRAN]\n",
      "geosphere    (NA          -> 1.5-10     ) [CRAN]\n",
      "knitr        (NA          -> 1.26       ) [CRAN]\n",
      "openxlsx     (NA          -> 4.1.3      ) [CRAN]\n",
      "PBSmapping   (NA          -> 2.72.1     ) [CRAN]\n",
      "plotrix      (NA          -> 3.7-6      ) [CRAN]\n",
      "plotly       (NA          -> 4.9.1      ) [CRAN]\n",
      "raster       (NA          -> 3.0-7      ) [CRAN]\n",
      "readxl       (NA          -> 1.3.1      ) [CRAN]\n",
      "rgdal        (NA          -> 1.4-8      ) [CRAN]\n",
      "rgeos        (NA          -> 0.5-2      ) [CRAN]\n",
      "sf           (NA          -> 0.8-0      ) [CRAN]\n",
      "sp           (NA          -> 1.3-2      ) [CRAN]\n",
      "rematch      (NA          -> 1.0.1      ) [CRAN]\n",
      "RcppArmad... (0.9.700.2.0 -> 0.9.800.1.0) [CRAN]\n",
      "R.utils      (NA          -> 2.9.0      ) [CRAN]\n",
      "igraph       (NA          -> 1.2.4.2    ) [CRAN]\n",
      "highr        (NA          -> 0.8        ) [CRAN]\n",
      "markdown     (NA          -> 1.1        ) [CRAN]\n",
      "xfun         (NA          -> 0.11       ) [CRAN]\n",
      "zip          (NA          -> 2.0.4      ) [CRAN]\n",
      "scales       (1.0.0       -> 1.1.0      ) [CRAN]\n",
      "hexbin       (NA          -> 1.28.0     ) [CRAN]\n",
      "progress     (NA          -> 1.2.2      ) [CRAN]\n",
      "classInt     (NA          -> 0.4-2      ) [CRAN]\n",
      "DBI          (NA          -> 1.0.0      ) [CRAN]\n",
      "units        (NA          -> 0.6-5      ) [CRAN]\n",
      "R.oo         (NA          -> 1.23.0     ) [CRAN]\n",
      "R.methodsS3  (NA          -> 1.7.1      ) [CRAN]\n",
      "farver       (NA          -> 2.0.1      ) [CRAN]\n",
      "R6           (2.4.0       -> 2.4.1      ) [CRAN]\n",
      "curl         (4.2         -> 4.3        ) [CRAN]\n",
      "hms          (NA          -> 0.5.2      ) [CRAN]\n",
      "e1071        (NA          -> 1.7-3      ) [CRAN]\n"
     ]
    },
    {
     "name": "stderr",
     "output_type": "stream",
     "text": [
      "Installing 39 packages: cellranger, data.table, fasterize, fasttime, gdalUtils, gdistance, geosphere, knitr, openxlsx, PBSmapping, plotrix, plotly, raster, readxl, rgdal, rgeos, sf, sp, rematch, RcppArmadillo, R.utils, igraph, highr, markdown, xfun, zip, scales, hexbin, progress, classInt, DBI, units, R.oo, R.methodsS3, farver, R6, curl, hms, e1071\n",
      "\n"
     ]
    },
    {
     "name": "stdout",
     "output_type": "stream",
     "text": [
      "\n",
      "  There is a binary version available but the source version is later:\n",
      "     binary source needs_compilation\n",
      "curl    4.2    4.3              TRUE\n",
      "\n",
      "\n",
      "The downloaded binary packages are in\n",
      "\t/var/folders/q4/560b_v4n27b6gghbynw3d9ch0000gn/T//Rtmp3X3zX3/downloaded_packages\n"
     ]
    },
    {
     "name": "stderr",
     "output_type": "stream",
     "text": [
      "installing the source package ‘curl’\n",
      "\n",
      "\n"
     ]
    },
    {
     "name": "stdout",
     "output_type": "stream",
     "text": [
      "\u001b[32m✔\u001b[39m  \u001b[38;5;247mchecking for file ‘/private/var/folders/q4/560b_v4n27b6gghbynw3d9ch0000gn/T/Rtmp3X3zX3/remotes1250e2092d6bb/glatos-master-9cb9c730d34156909a142248cf5e3569062037bf/DESCRIPTION’\u001b[39m\u001b[36m\u001b[39m\n",
      "\u001b[38;5;247m─\u001b[39m\u001b[38;5;247m  \u001b[39m\u001b[38;5;247mpreparing ‘glatos’:\u001b[39m\u001b[36m\u001b[39m\n",
      "\u001b[32m✔\u001b[39m  \u001b[38;5;247mchecking DESCRIPTION meta-information\u001b[39m\u001b[36m\u001b[39m\n",
      "\u001b[38;5;247m─\u001b[39m\u001b[38;5;247m  \u001b[39m\u001b[38;5;247mchecking for LF line-endings in source and make files and shell scripts\u001b[39m\u001b[36m\u001b[39m\n",
      "\u001b[38;5;247m─\u001b[39m\u001b[38;5;247m  \u001b[39m\u001b[38;5;247mchecking for empty or unneeded directories\u001b[39m\u001b[36m\u001b[39m\n",
      "\u001b[38;5;247m─\u001b[39m\u001b[38;5;247m  \u001b[39m\u001b[38;5;247mlooking to see if a ‘data/datalist’ file should be added\u001b[39m\u001b[36m\u001b[39m\n",
      "\u001b[38;5;247m─\u001b[39m\u001b[38;5;247m  \u001b[39m\u001b[38;5;247mbuilding ‘glatos_0.4.0.tar.gz’\u001b[39m\u001b[36m\u001b[36m (867ms)\u001b[36m\u001b[39m\n",
      "   \n",
      "\r"
     ]
    }
   ],
   "source": [
    "install.packages('remotes')\n",
    "library(remotes)\n",
    "install_url(\"https://gitlab.oceantrack.org/GreatLakes/glatos/repository/master/archive.zip\",\n",
    "            build_opts = c(\"--no-resave-data\", \"--no-manual\"))"
   ]
  },
  {
   "cell_type": "code",
   "execution_count": 3,
   "metadata": {},
   "outputs": [
    {
     "name": "stderr",
     "output_type": "stream",
     "text": [
      "version 0.4.0 ('full-english-breakfast')\n",
      "\n"
     ]
    },
    {
     "ename": "ERROR",
     "evalue": "Error in data.table::fread(det_file, nrows = 0): File 'detections.csv' does not exist or is non-readable. getwd()=='/Users/bruce/Work/jb-acoustic-telemetry/notebooks'\n",
     "output_type": "error",
     "traceback": [
      "Error in data.table::fread(det_file, nrows = 0): File 'detections.csv' does not exist or is non-readable. getwd()=='/Users/bruce/Work/jb-acoustic-telemetry/notebooks'\nTraceback:\n",
      "1. read_glatos_detections(\"detections.csv\")",
      "2. id_det_version(det_file)",
      "3. data.table::fread(det_file, nrows = 0)",
      "4. stop(\"File '\", file, \"' does not exist or is non-readable. getwd()=='\", \n .     getwd(), \"'\")"
     ]
    }
   ],
   "source": [
    "library(glatos)\n",
    "\n",
    "dets_file <- file.path('../data', 'detections.csv')\n",
    "dets <- read_glatos_detections(det)\n",
    "dets <- glatos::false_detections(dets, tf = 3600)"
   ]
  },
  {
   "cell_type": "code",
   "execution_count": null,
   "metadata": {},
   "outputs": [],
   "source": []
  }
 ],
 "metadata": {
  "kernelspec": {
   "display_name": "R",
   "language": "R",
   "name": "ir"
  },
  "language_info": {
   "codemirror_mode": "r",
   "file_extension": ".r",
   "mimetype": "text/x-r-source",
   "name": "R",
   "pygments_lexer": "r",
   "version": "3.6.1"
  }
 },
 "nbformat": 4,
 "nbformat_minor": 2
}
