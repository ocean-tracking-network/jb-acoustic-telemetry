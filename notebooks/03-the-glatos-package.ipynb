{
 "cells": [
  {
   "cell_type": "code",
   "execution_count": null,
   "metadata": {},
   "outputs": [],
   "source": [
    "install.packages('remotes')\n",
    "library(remotes)\n",
    "install_url(\"https://gitlab.oceantrack.org/GreatLakes/glatos/repository/master/archive.zip\",\n",
    "            build_opts = c(\"--no-resave-data\", \"--no-manual\"))"
   ]
  },
  {
   "cell_type": "code",
   "execution_count": null,
   "metadata": {},
   "outputs": [],
   "source": [
    "library(glatos)\n",
    "\n",
    "dets_file <- file.path('../data', 'detections.csv')\n",
    "dets <- read_glatos_detections(dets_file)\n",
    "dets <- false_detections(dets, tf = 3600)"
   ]
  },
  {
   "cell_type": "code",
   "execution_count": null,
   "metadata": {},
   "outputs": [],
   "source": [
    "library(tidyverse)\n",
    "\n",
    "dets_filtered <- dets %>% filter(passed_filter != FALSE)\n",
    "dets_filtered"
   ]
  },
  {
   "cell_type": "code",
   "execution_count": null,
   "metadata": {},
   "outputs": [],
   "source": []
  }
 ],
 "metadata": {
  "kernelspec": {
   "display_name": "R",
   "language": "R",
   "name": "ir"
  },
  "language_info": {
   "codemirror_mode": "r",
   "file_extension": ".r",
   "mimetype": "text/x-r-source",
   "name": "R",
   "pygments_lexer": "r",
   "version": "3.6.1"
  }
 },
 "nbformat": 4,
 "nbformat_minor": 2
}
