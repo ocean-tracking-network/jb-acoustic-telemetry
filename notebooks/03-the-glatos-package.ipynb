{
 "cells": [
  {
   "cell_type": "markdown",
   "metadata": {},
   "source": [
    "## The GLATOS package\n",
    "\n",
    "`glatos` is an R package with functions useful to members of the Great Lakes Acoustic Telemetry Observation System (http://glatos.glos.us). Functions may be generally useful for processing, analyzing, simulating, and visualizing acoustic telemetry data, but are not strictly limited to acoustic telemetry applications.\n",
    "\n",
    "Follow and contribute to the development of the `glatos` package at its repository: https://gitlab.oceantrack.org/GreatLakes/glatos"
   ]
  },
  {
   "cell_type": "code",
   "execution_count": null,
   "metadata": {},
   "outputs": [],
   "source": [
    "# Installing the glatos package. If you've already got GLATOS installed, skip this part!\n",
    "install.packages('remotes')\n",
    "library(remotes)\n",
    "install_url(\"https://gitlab.oceantrack.org/GreatLakes/glatos/repository/master/archive.zip\", build_opts = c(\"--no-resave-data\", \"--no-manual\"))"
   ]
  },
  {
   "cell_type": "code",
   "execution_count": null,
   "metadata": {},
   "outputs": [],
   "source": [
    "library(glatos)\n",
    "\n",
    "dets_file <- file.path('../data', 'detections.csv')\n",
    "dets <- read_glatos_detections(dets_file)\n",
    "dets <- false_detections(dets, tf = 3600)"
   ]
  },
  {
   "cell_type": "markdown",
   "metadata": {},
   "source": [
    "## Parse GLATOS results with dplyr\n",
    "\n",
    "Now that we've got our filter flags, let's bring back our Tidyverse tools and subset only the rows that passed the filter, and then take a peek at what's left in our output dataframe:"
   ]
  },
  {
   "cell_type": "code",
   "execution_count": null,
   "metadata": {},
   "outputs": [],
   "source": [
    "library(tidyverse)\n",
    "\n",
    "dets_filtered <- dets %>% filter(passed_filter != FALSE)\n",
    "dets_filtered"
   ]
  },
  {
   "cell_type": "code",
   "execution_count": null,
   "metadata": {},
   "outputs": [],
   "source": [
    "# Just the ones that didn't pass the default time-based filter\n",
    "dets_rejected <- dets %>% filter(passed_filter == FALSE)\n",
    "dets_rejected"
   ]
  },
  {
   "cell_type": "markdown",
   "metadata": {},
   "source": [
    "## What do we see on manual review of the filtered-out detections?"
   ]
  },
  {
   "cell_type": "code",
   "execution_count": null,
   "metadata": {},
   "outputs": [],
   "source": []
  }
 ],
 "metadata": {
  "kernelspec": {
   "display_name": "R",
   "language": "R",
   "name": "ir"
  },
  "language_info": {
   "codemirror_mode": "r",
   "file_extension": ".r",
   "mimetype": "text/x-r-source",
   "name": "R",
   "pygments_lexer": "r",
   "version": "3.6.0"
  }
 },
 "nbformat": 4,
 "nbformat_minor": 2
}
