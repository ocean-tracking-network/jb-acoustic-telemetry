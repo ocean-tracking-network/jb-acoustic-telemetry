{
 "cells": [
  {
   "cell_type": "code",
   "execution_count": 3,
   "metadata": {},
   "outputs": [
    {
     "ename": "ERROR",
     "evalue": "Error in library(glatos): there is no package called ‘glatos’\n",
     "output_type": "error",
     "traceback": [
      "Error in library(glatos): there is no package called ‘glatos’\nTraceback:\n",
      "1. library(glatos)"
     ]
    }
   ],
   "source": [
    "library(glatos)\n",
    "\n",
    "dets_file <- file.path('../data', 'detections.csv')\n",
    "dets <- read_glatos_detections(\"detections.csv\")\n",
    "dets <- glatos::false_detections(dets, tf = 3600)"
   ]
  },
  {
   "cell_type": "code",
   "execution_count": null,
   "metadata": {},
   "outputs": [],
   "source": []
  }
 ],
 "metadata": {
  "kernelspec": {
   "display_name": "R",
   "language": "R",
   "name": "ir"
  },
  "language_info": {
   "codemirror_mode": "r",
   "file_extension": ".r",
   "mimetype": "text/x-r-source",
   "name": "R",
   "pygments_lexer": "r",
   "version": "3.6.1"
  }
 },
 "nbformat": 4,
 "nbformat_minor": 2
}
