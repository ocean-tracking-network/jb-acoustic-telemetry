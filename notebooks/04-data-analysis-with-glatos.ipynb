{
 "cells": [
  {
   "cell_type": "markdown",
   "metadata": {},
   "source": [
    "## Compressing Detections into Detection Events for Faster Analysis\n",
    "\n",
    "Sometimes detection files are difficult to run through complicated algorithms because of their sheer size. A method of summarizing the detection data is to compress these raw detections into events, a single row record for each animal presence at a station over a time period."
   ]
  },
  {
   "cell_type": "code",
   "execution_count": null,
   "metadata": {},
   "outputs": [],
   "source": [
    "library(tidyverse)\n",
    "library(glatos)\n",
    "\n",
    "\n",
    "detections_path <- file.path('../data', 'detections.csv')\n",
    "detections <- glatos::read_glatos_detections(detections_path)\n",
    "\n",
    "# Filter our detections first\n",
    "detections <- glatos::false_detections(detections, tf = 3600)\n",
    "filtered_detections <- detections %>% filter(passed_filter != FALSE)\n",
    "\n",
    "# And create a new detection_events data set from the filtered detections.\n",
    "detection_events <- glatos::detection_events(filtered_detections, location_col = 'station')\n",
    "detection_events  "
   ]
  },
  {
   "cell_type": "code",
   "execution_count": null,
   "metadata": {},
   "outputs": [],
   "source": [
    "# Let's make our detection intervals, \n",
    "# the time period between the first and last detection at a station, \n",
    "# into an object called a date-interval. This lets you perform time-based math and some other handy logic\n",
    "library(lubridate)\n",
    "\n",
    "detection_events <- \n",
    "    detection_events %>% \n",
    "    mutate(detection_interval = lubridate::interval(first_detection, last_detection))\n",
    "\n",
    "detection_events"
   ]
  },
  {
   "cell_type": "code",
   "execution_count": null,
   "metadata": {},
   "outputs": [],
   "source": [
    "# Let's find overlapping events, that is, times that two animals were co-located at a station.\n",
    "# We'll add the overlapping records for any row to a new column for that row, called overlaps_with\n",
    "\n",
    "for(event in detection_events$event) {\n",
    "    detection_events$overlaps_with[event] = paste( # We use paste to create a string of other events\n",
    "        which(detection_events$location == detection_events$location[event] &  # Make sure that the location is the same\n",
    "            detection_events$event != event &  # Make sure the event is not the same\n",
    "            lubridate::int_overlaps(detection_events$detection_interval[event], detection_events$detection_interval) \n",
    "            # We can use lubridate's int_overlaps function to find the overlapping events\n",
    "        ),\n",
    "        collapse=\",\")\n",
    "}\n",
    "\n",
    "detection_events \n"
   ]
  },
  {
   "cell_type": "code",
   "execution_count": null,
   "metadata": {},
   "outputs": [],
   "source": [
    "# Now that we've got our overlapping detection events, let's see which ones overlap with others\n",
    "\n",
    "detection_events %>% \n",
    "    select(-one_of(\"detection_interval\")) %>% \n",
    "    filter(detection_events$overlaps_with != '')  "
   ]
  },
  {
   "cell_type": "code",
   "execution_count": null,
   "metadata": {},
   "outputs": [],
   "source": [
    "# Our detection events dataframe is also a useful intermediary dataset for creating summaries of animal \n",
    "# presence per station. This also shows you how well you can read a dplyr pipeline to see what you're doing\n",
    "# to the data, provided you name things in readable ways.\n",
    "\n",
    "summary_data <- \n",
    "    detection_events %>% \n",
    "    group_by(location) %>%                              # Here we group our detection events by location, \n",
    "    summarise(detection_count = sum(num_detections),    # do a total tally of the raw detections\n",
    "              num_unique_tags = n_distinct(animal_id),  # count the number of unique animals at each location, \n",
    "              total_residence_time_in_seconds = sum(detection_interval),  # sum up the total time of the intervals\n",
    "              latitude = mean(mean_latitude),           # and for datasets that cross receiver deployment histories, \n",
    "              longitude = mean(mean_longitude))         # average the lat/lon of each deployment per station.\n",
    "\n",
    "summary_data"
   ]
  },
  {
   "cell_type": "markdown",
   "metadata": {},
   "source": [
    "## Plot.ly \n",
    "Plotly is a library for creating interactive plots, but you can also coerce it into making static plots. It has implementations in R, Python and Javascript, and it's one of many options for creating customized, interactive/static plots of all kinds. It's got fairly good documentation at https://plot.ly/r and we'll go over some of the functionality here while we use it to introspect our data visually."
   ]
  },
  {
   "cell_type": "code",
   "execution_count": null,
   "metadata": {},
   "outputs": [],
   "source": [
    "\n",
    "library(plotly)\n",
    "\n",
    "# Like the standard abacus plot, for example:\n",
    "abacus_plot <-\n",
    "    filtered_detections %>% \n",
    "    filter(!str_detect(station, \"lost\")) %>% \n",
    "    ggplot(aes(x = detection_timestamp_utc, y = animal_id, color = deploy_lat)) +\n",
    "    geom_point(size=5) +\n",
    "    ylab(\"Animal ID\") + xlab(\"Date\") + labs(color = \"Detection latitude\") +\n",
    "    theme_minimal(base_size = 20, base_family = \"\", base_rect_size = 60)\n",
    "\n",
    "#Jupyter Notebook users: use this to resize your plot.\n",
    "options(repr.plot.width=20, repr.plot.height=10)\n",
    "## Show our static plot\n",
    "abacus_plot"
   ]
  },
  {
   "cell_type": "code",
   "execution_count": null,
   "metadata": {},
   "outputs": [],
   "source": [
    "# Your plot (saved in the variable) can be saved to a file\n",
    "\n",
    "plotly_IMAGE(abacus_plot, format='png', out_file='abacus_plotly.png')"
   ]
  },
  {
   "cell_type": "code",
   "execution_count": null,
   "metadata": {},
   "outputs": [],
   "source": [
    "## Interactive plot using plotly\n",
    "# can take a couple tries to render from JuPyTeR notebooks\n",
    "ggplotly(abacus_plot)"
   ]
  },
  {
   "cell_type": "code",
   "execution_count": null,
   "metadata": {},
   "outputs": [],
   "source": [
    "geo <- list(\n",
    "  #   scope = 'north america',\n",
    "  showland = TRUE,\n",
    "  landcolor = toRGB(\"#7BB992\"),\n",
    "  showocean = TRUE,\n",
    "  oceancolor = toRGB(\"#A0AAB4\"),\n",
    "  showrivers = TRUE,\n",
    "  rivercolor = toRGB(\"#A0AAB4\"),\n",
    "  showlakes = TRUE,\n",
    "  lakecolor = toRGB(\"#A0AAB4\"),\n",
    "  showcountries = TRUE,\n",
    "  resolution = 50,\n",
    "  center = list(lat = ~median(latitude),\n",
    "                lon = ~median(longitude)),\n",
    "  lonaxis = list(range=c(~min(longitude) - 4, ~max(longitude) + 4)),\n",
    "  lataxis = list(range=c(~min(latitude) - 4, ~max(latitude) + 4))\n",
    ")"
   ]
  },
  {
   "cell_type": "code",
   "execution_count": null,
   "metadata": {},
   "outputs": [],
   "source": [
    "map <- summary_data %>%\n",
    "    filter(!str_detect(location, \"lost\")) %>%\n",
    "    plot_geo(lat = ~latitude, lon = ~longitude, color = ~detection_count, height = 900 )%>%\n",
    "    add_markers(\n",
    "        text = ~paste(location, ': ', detection_count,'detections', ' & ', total_residence_time_in_seconds, ' seconds of residence time'),\n",
    "        hoverinfo = \"text\",\n",
    "        size = ~c(detection_count/10)#  + total_residence_time_in_seconds/3600)\n",
    "    )%>%\n",
    "    layout(title = \"Detections in the Great Lakes\", geo = geo)\n",
    "\n",
    "\n",
    "map  "
   ]
  },
  {
   "cell_type": "code",
   "execution_count": null,
   "metadata": {},
   "outputs": [],
   "source": [
    "Sys.setenv('MAPBOX_TOKEN' = 'pk.eyJ1IjoiYnJ1Y2VkIiwiYSI6ImNrM2Z6NDNscjBhNGYza3AzcW1pZnp3cDQifQ.kQLCJJtGcfX7mvq-wNkr2Q')"
   ]
  },
  {
   "cell_type": "code",
   "execution_count": null,
   "metadata": {},
   "outputs": [],
   "source": [
    "mapbox <- summary_data %>%\n",
    "  filter(!str_detect(location, \"lost\")) %>%\n",
    "  plot_mapbox(lat = ~latitude, lon = ~longitude, color = ~detection_count , height = 900) %>%\n",
    "  add_markers(\n",
    "    text = ~paste(location, ': ', detection_count,'detections', ' & ', total_residence_time_in_seconds, ' seconds of residence time'),\n",
    "    hoverinfo = \"text\",\n",
    "    size = ~c(detection_count/10  + total_residence_time_in_seconds/3600)\n",
    "  )%>%\n",
    "  layout( mapbox = list(zoom = 7,\n",
    "                        center = list(lat = ~median(latitude),\n",
    "                                      lon = ~median(longitude))\n",
    "  ))\n",
    "\n",
    "mapbox"
   ]
  },
  {
   "cell_type": "markdown",
   "metadata": {},
   "source": [
    "## PROBLEM: was there something wrong with / missing from this plot?\n",
    "\n",
    "When code that's shared with you isn't working the way it should, sometimes it's a long, frustrating process to figure out why it's different for your machine. Maybe the person we got the scipt from was using a slightly different version of the package! If they shared their environment versions with you, you might be able to identify differences and install their exact environment using commands like this one:"
   ]
  },
  {
   "cell_type": "code",
   "execution_count": null,
   "metadata": {},
   "outputs": [],
   "source": [
    "require(devtools)\n",
    "install_version(\"plotly\", version = \"4.9.0\", repos = \"http://cran.us.r-project.org\")\n",
    "\n",
    "# ...and then, sadly, restart your kernel and run through again."
   ]
  },
  {
   "cell_type": "markdown",
   "metadata": {},
   "source": [
    "More generally, it's reasonable (and nice!) to share your environment as well as your code when disseminating code. This ROpenSci tutorial explains how *(and why)* to reproduce your data workflow and environment for others, and create **reproducible workflows** when you're sharing or publishing your code.\n",
    "\n",
    "https://ropensci.github.io/reproducibility-guide/sections/introduction/"
   ]
  },
  {
   "cell_type": "code",
   "execution_count": null,
   "metadata": {},
   "outputs": [],
   "source": []
  }
 ],
 "metadata": {
  "kernelspec": {
   "display_name": "R",
   "language": "R",
   "name": "ir"
  },
  "language_info": {
   "codemirror_mode": "r",
   "file_extension": ".r",
   "mimetype": "text/x-r-source",
   "name": "R",
   "pygments_lexer": "r",
   "version": "3.6.0"
  }
 },
 "nbformat": 4,
 "nbformat_minor": 2
}
