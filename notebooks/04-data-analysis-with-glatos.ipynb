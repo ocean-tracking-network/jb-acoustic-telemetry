{
 "cells": [
  {
   "cell_type": "code",
   "execution_count": null,
   "metadata": {},
   "outputs": [],
   "source": [
    "library(tidyverse)\n",
    "library(glatos)\n",
    "\n",
    "\n",
    "detections_path <- file.path('../data', 'detections.csv')\n",
    "detections <- glatos::read_glatos_detections(detections_path)\n",
    "\n",
    "detections <- glatos::false_detections(detections, tf = 3600)\n",
    "filtered_detections <- detections %>% filter(passed_filter != FALSE)\n",
    "\n",
    "detection_events <- glatos::detection_events(filtered_detections, location_col = 'station')\n",
    "detection_events  "
   ]
  },
  {
   "cell_type": "code",
   "execution_count": null,
   "metadata": {},
   "outputs": [],
   "source": [
    "library(lubridate)\n",
    "\n",
    "detection_events <- \n",
    "    detection_events %>% \n",
    "    mutate(detection_interval = lubridate::interval(first_detection, last_detection))\n",
    "\n",
    "detection_events"
   ]
  },
  {
   "cell_type": "code",
   "execution_count": null,
   "metadata": {},
   "outputs": [],
   "source": [
    "for(event in detection_events$event) {\n",
    "    detection_events$overlaps_with[event] = paste( # We use paste to create a string of other events\n",
    "        which(detection_events$location == detection_events$location[event] &  # Make sure that the location is the same\n",
    "            detection_events$event != event &  # Make sure the event is not the same\n",
    "            lubridate::int_overlaps(detection_events$detection_interval[event], detection_events$detection_interval) \n",
    "            # We can use lubridate's int_overlaps function to find the overlapping events\n",
    "        ),\n",
    "        collapse=\",\")\n",
    "}\n",
    "\n",
    "detection_events\n"
   ]
  },
  {
   "cell_type": "code",
   "execution_count": null,
   "metadata": {},
   "outputs": [],
   "source": [
    "detection_events %>% \n",
    "    select(-one_of(\"detection_interval\")) %>% \n",
    "    filter(detection_events$overlaps_with != '')  "
   ]
  },
  {
   "cell_type": "code",
   "execution_count": null,
   "metadata": {},
   "outputs": [],
   "source": [
    "summary_data <- \n",
    "    detection_events %>% \n",
    "    group_by(location) %>% \n",
    "    summarise(detection_count = sum(num_detections),\n",
    "              num_unique_tags = n_distinct(animal_id),\n",
    "              total_residence_time_in_seconds = sum(detection_interval),\n",
    "              latitude = mean(mean_latitude),\n",
    "              longitude = mean(mean_longitude))  \n",
    "\n",
    "summary_data"
   ]
  },
  {
   "cell_type": "code",
   "execution_count": null,
   "metadata": {},
   "outputs": [],
   "source": [
    "library(plotly)\n",
    "\n",
    "abacus_plot <-\n",
    "    filtered_detections %>% \n",
    "    filter(!str_detect(station, \"lost\")) %>% \n",
    "    ggplot(aes(x = detection_timestamp_utc, y = animal_id, color = deploy_lat)) +\n",
    "    geom_point() +\n",
    "    ylab(\"Animal ID\") + xlab(\"Date\") + labs(color = \"Detection latitude\") +\n",
    "    theme_minimal()\n",
    "\n",
    "## Static plot\n",
    "abacus_plot"
   ]
  },
  {
   "cell_type": "code",
   "execution_count": null,
   "metadata": {},
   "outputs": [],
   "source": [
    "## Interactive plot using plotly\n",
    "ggplotly(abacus_plot)"
   ]
  },
  {
   "cell_type": "code",
   "execution_count": null,
   "metadata": {},
   "outputs": [],
   "source": [
    "geo <- list(\n",
    "  #   scope = 'north america',\n",
    "  showland = TRUE,\n",
    "  landcolor = toRGB(\"#7BB992\"),\n",
    "  showocean = TRUE,\n",
    "  oceancolor = toRGB(\"#A0AAB4\"),\n",
    "  showrivers = TRUE,\n",
    "  rivercolor = toRGB(\"#A0AAB4\"),\n",
    "  showlakes = TRUE,\n",
    "  lakecolor = toRGB(\"#A0AAB4\"),\n",
    "  showcountries = TRUE,\n",
    "  resolution = 50,\n",
    "  center = list(lat = ~median(latitude),\n",
    "                lon = ~median(longitude)),\n",
    "  lonaxis = list(range=c(~min(longitude) - 4, ~max(longitude) + 4)),\n",
    "  lataxis = list(range=c(~min(latitude) - 4, ~max(latitude) + 4))\n",
    ")"
   ]
  },
  {
   "cell_type": "code",
   "execution_count": null,
   "metadata": {},
   "outputs": [],
   "source": [
    "map <- summary_data %>%\n",
    "    filter(!str_detect(location, \"lost\")) %>%\n",
    "    plot_geo(lat = ~latitude, lon = ~longitude, color = ~detection_count, height = 900 )%>%\n",
    "    add_markers(\n",
    "        text = ~paste(location, ': ', detection_count,'detections', ' & ', total_residence_time_in_seconds, ' seconds of residence time'),\n",
    "        hoverinfo = \"text\",\n",
    "        size = ~c(detection_count/10)#  + total_residence_time_in_seconds/3600)\n",
    "    )%>%\n",
    "    layout(title = \"Detections in the Great Lakes\", geo = geo)\n",
    "\n",
    "\n",
    "map  "
   ]
  },
  {
   "cell_type": "code",
   "execution_count": null,
   "metadata": {},
   "outputs": [],
   "source": [
    "Sys.setenv('MAPBOX_TOKEN' = 'pk.eyJ1IjoiYnJ1Y2VkIiwiYSI6ImNrM2Z6NDNscjBhNGYza3AzcW1pZnp3cDQifQ.kQLCJJtGcfX7mvq-wNkr2Q')\n",
    "#require(devtools)\n",
    "#install_version(\"plotly\", version = \"4.9.0\", repos = \"http://cran.us.r-project.org\")\n"
   ]
  },
  {
   "cell_type": "code",
   "execution_count": null,
   "metadata": {},
   "outputs": [],
   "source": [
    "mapbox <- summary_data %>%\n",
    "  filter(!str_detect(location, \"lost\")) %>%\n",
    "  plot_mapbox(lat = ~latitude, lon = ~longitude, color = ~detection_count , height = 900) %>%\n",
    "  add_markers(\n",
    "    text = ~paste(location, ': ', detection_count,'detections', ' & ', total_residence_time_in_seconds, ' seconds of residence time'),\n",
    "    hoverinfo = \"text\",\n",
    "    size = ~c(detection_count/10  + total_residence_time_in_seconds/3600)\n",
    "  )%>%\n",
    "  layout( mapbox = list(zoom = 7,\n",
    "                        center = list(lat = ~median(latitude),\n",
    "                                      lon = ~median(longitude))\n",
    "  ))\n",
    "\n",
    "mapbox"
   ]
  }
 ],
 "metadata": {
  "kernelspec": {
   "display_name": "R",
   "language": "R",
   "name": "ir"
  },
  "language_info": {
   "codemirror_mode": "r",
   "file_extension": ".r",
   "mimetype": "text/x-r-source",
   "name": "R",
   "pygments_lexer": "r",
   "version": "3.6.1"
  }
 },
 "nbformat": 4,
 "nbformat_minor": 2
}
