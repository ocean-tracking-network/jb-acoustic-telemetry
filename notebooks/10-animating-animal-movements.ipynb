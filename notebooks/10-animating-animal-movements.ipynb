{
 "cells": [
  {
   "cell_type": "code",
   "execution_count": null,
   "metadata": {},
   "outputs": [],
   "source": [
    "library(glatos)\n",
    "library(sf)\n",
    "library(mapview)\n",
    "library(plotly)\n",
    "library(tidyverse)"
   ]
  },
  {
   "cell_type": "code",
   "execution_count": null,
   "metadata": {},
   "outputs": [],
   "source": [
    "det_path <- file.path(\"..\", \"data\", \"detections.csv\")\n",
    "\n",
    "detection_events <- \n",
    "  read_glatos_detections(det_path) %>% \n",
    "  false_detections(tf = 3600) %>% \n",
    "  filter(passed_filter != FALSE) %>% \n",
    "  detection_events(location_col = 'station')"
   ]
  },
  {
   "cell_type": "code",
   "execution_count": null,
   "metadata": {},
   "outputs": [],
   "source": [
    "rx_file <- file.path(\"..\", \"data\", \"deployments.csv\")\n",
    "\n",
    "receivers <-\n",
    "  read_glatos_receivers(rx_file)"
   ]
  },
  {
   "cell_type": "code",
   "execution_count": null,
   "metadata": {},
   "outputs": [],
   "source": [
    "## Combine detection and reciever datasets into a single combined data frame\n",
    "combined_data <- \n",
    "  detection_events %>% \n",
    "  left_join(receivers, by = c(\"location\" = \"station\")) %>% \n",
    "  filter(first_detection >= deploy_date_time, first_detection <= recover_date_time)"
   ]
  },
  {
   "cell_type": "code",
   "execution_count": null,
   "metadata": {},
   "outputs": [],
   "source": [
    "## Plot your combined dataset \n",
    "combined_sf_data <- combined_data %>% \n",
    "  group_by(animal_id, location, deploy_lat, deploy_long) %>% \n",
    "  summarise(Num.Det = n()) %>% \n",
    "  st_as_sf(coords = c(\"deploy_long\", \"deploy_lat\"), crs = 4326) %>% \n",
    "  mapview(zcol = \"animal_id\", cex = \"Num.Det\", burst = T, legend = F)\n",
    "  "
   ]
  },
  {
   "cell_type": "code",
   "execution_count": null,
   "metadata": {},
   "outputs": [],
   "source": [
    "mapshot(combined_sf_data, url=\"combined_data.html\")"
   ]
  },
  {
   "cell_type": "code",
   "execution_count": null,
   "metadata": {},
   "outputs": [],
   "source": [
    "install.packages(\"gganimate\")\n",
    "install.packages(\"gifski\")\n",
    "library(gifski)\n",
    "library(gganimate)\n",
    "library(ggmap)\n",
    "library(lubridate)"
   ]
  },
  {
   "cell_type": "code",
   "execution_count": null,
   "metadata": {},
   "outputs": [],
   "source": [
    "plot_data <-\n",
    "  combined_data %>% \n",
    "  mutate(timestep = round_date(first_detection, unit = \"1 days\")) %>% \n",
    "  group_by(timestep, animal_id) %>% \n",
    "  summarise(lon = mean(deploy_long),\n",
    "            lat = mean(deploy_lat))"
   ]
  },
  {
   "cell_type": "code",
   "execution_count": null,
   "metadata": {},
   "outputs": [],
   "source": [
    "## Lets setup the base map\n",
    "base <- \n",
    "  get_stamenmap(\n",
    "    bbox = c(left = min(plot_data$lon),\n",
    "             bottom = min(plot_data$lat), \n",
    "             right = max(plot_data$lon), \n",
    "             top = max(plot_data$lat)),\n",
    "    maptype = \"toner-lite\",\n",
    "    crop = F, \n",
    "    zoom = 8)"
   ]
  },
  {
   "cell_type": "code",
   "execution_count": null,
   "metadata": {},
   "outputs": [],
   "source": [
    "## Plot a static map with movement patterns\n",
    "walleye.plot <-\n",
    "  ggmap(base) +\n",
    "  geom_point(data = plot_data, aes(x = lon, y = lat, group = animal_id, color = animal_id), size = 2) +\n",
    "  geom_path(data = plot_data, aes(x = lon, y = lat, group = animal_id, color = animal_id)) +\n",
    "  labs(title = \"Walleye animation\",\n",
    "       x = \"Longitude\", y = \"Latitude\", color = \"Tag ID\")\n",
    "\n",
    "walleye.plot"
   ]
  },
  {
   "cell_type": "code",
   "execution_count": null,
   "metadata": {},
   "outputs": [],
   "source": [
    "## Interact with ggmap\n",
    "ggplotly(walleye.plot)"
   ]
  },
  {
   "cell_type": "code",
   "execution_count": null,
   "metadata": {},
   "outputs": [],
   "source": [
    "## Create an animation using the map\n",
    "walleye.animation <-\n",
    "  walleye.plot +\n",
    "  labs(subtitle = 'Date: {format(frame_along, \"%d %b %Y\")}') +\n",
    "  transition_reveal(timestep) +\n",
    "  shadow_mark(past = T, future = F)"
   ]
  },
  {
   "cell_type": "code",
   "execution_count": null,
   "metadata": {},
   "outputs": [],
   "source": [
    "animate(walleye.animation, renderer = gifski_renderer('walleye_animation.gif'))"
   ]
  },
  {
   "cell_type": "markdown",
   "metadata": {},
   "source": [
    "![SegmentLocal](walleye_animation.gif \"walleye\")"
   ]
  },
  {
   "cell_type": "code",
   "execution_count": null,
   "metadata": {},
   "outputs": [],
   "source": [
    "# Save it:\n",
    "anim_save(filename = \"walleye_animation.gif\", walleye.animation)"
   ]
  },
  {
   "cell_type": "markdown",
   "metadata": {},
   "source": [
    "## Walleye Animation\n",
    "if the image isn't displaying, edit this cell and it will appear when you finish editting\n",
    "<img src=\"walleye_animation.gif\">"
   ]
  },
  {
   "cell_type": "code",
   "execution_count": null,
   "metadata": {},
   "outputs": [],
   "source": []
  },
  {
   "cell_type": "code",
   "execution_count": null,
   "metadata": {},
   "outputs": [],
   "source": []
  }
 ],
 "metadata": {
  "kernelspec": {
   "display_name": "R",
   "language": "R",
   "name": "ir"
  },
  "language_info": {
   "codemirror_mode": "r",
   "file_extension": ".r",
   "mimetype": "text/x-r-source",
   "name": "R",
   "pygments_lexer": "r",
   "version": "3.6.1"
  }
 },
 "nbformat": 4,
 "nbformat_minor": 2
}
