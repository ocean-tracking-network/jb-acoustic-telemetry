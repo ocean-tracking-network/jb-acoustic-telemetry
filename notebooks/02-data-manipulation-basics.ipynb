{
 "cells": [
  {
   "cell_type": "code",
   "execution_count": null,
   "metadata": {},
   "outputs": [],
   "source": [
    "install.packages(\"tidyverse\")\n",
    "library(tidyverse)"
   ]
  },
  {
   "cell_type": "code",
   "execution_count": null,
   "metadata": {},
   "outputs": [],
   "source": [
    "# We need to define these as the first 1000 rows don't have any data so read_csv thinks they are logicals\n",
    "col_specs <- cols( \n",
    "  sensor_value = col_character(),\n",
    "  sensor_unit = col_character(),\n",
    "  glatos_caught_date = col_date()\n",
    ")\n",
    "\n",
    "data <- read_csv(\"../data/detections.csv\",  col_types = col_specs)\n",
    "data"
   ]
  },
  {
   "cell_type": "code",
   "execution_count": null,
   "metadata": {},
   "outputs": [],
   "source": [
    "dets_file <- file.path('../data', 'detections.csv')\n",
    "rcv_file <- file.path('../data', 'deployments.csv')\n",
    "tags_file <- file.path('../data', 'animal_tags.csv')\n",
    "\n",
    "dets <- read_csv(dets_file, col_types = col_specs) #detections from acoustic receivers\n",
    "Rxdeploy <- read_csv(rcv_file) #receiver station info\n",
    "tags <- read_csv(tags_file) #tagged fish data"
   ]
  },
  {
   "cell_type": "code",
   "execution_count": null,
   "metadata": {},
   "outputs": [],
   "source": [
    "head(dets)"
   ]
  },
  {
   "cell_type": "code",
   "execution_count": null,
   "metadata": {},
   "outputs": [],
   "source": [
    "tail(dets)"
   ]
  },
  {
   "cell_type": "code",
   "execution_count": null,
   "metadata": {},
   "outputs": [],
   "source": [
    "str(dets)"
   ]
  },
  {
   "cell_type": "code",
   "execution_count": null,
   "metadata": {},
   "outputs": [],
   "source": [
    "dets[1:10,]"
   ]
  },
  {
   "cell_type": "code",
   "execution_count": null,
   "metadata": {},
   "outputs": [],
   "source": [
    "head(Rxdeploy)"
   ]
  },
  {
   "cell_type": "code",
   "execution_count": null,
   "metadata": {},
   "outputs": [],
   "source": [
    "head(tags)"
   ]
  },
  {
   "cell_type": "code",
   "execution_count": null,
   "metadata": {},
   "outputs": [],
   "source": []
  }
 ],
 "metadata": {
  "kernelspec": {
   "display_name": "R",
   "language": "R",
   "name": "ir"
  },
  "language_info": {
   "codemirror_mode": "r",
   "file_extension": ".r",
   "mimetype": "text/x-r-source",
   "name": "R",
   "pygments_lexer": "r",
   "version": "3.6.1"
  }
 },
 "nbformat": 4,
 "nbformat_minor": 2
}
