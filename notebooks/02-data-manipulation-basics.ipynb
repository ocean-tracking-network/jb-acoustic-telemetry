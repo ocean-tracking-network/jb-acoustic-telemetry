{
 "cells": [
  {
   "cell_type": "markdown",
   "metadata": {},
   "source": [
    "## Data Manipulation Basics\n",
    "First, we'll review a few Tidyverse-style shortcuts for opening and reviewing the contents of a tabular data file, using acoustic detections, receiver deployment information, and tag release datasets as our examples."
   ]
  },
  {
   "cell_type": "code",
   "execution_count": null,
   "metadata": {},
   "outputs": [],
   "source": [
    "#install.packages(\"tidyverse\")  # If you've already got the tidyverse installed, skip over this line.\n",
    "library(tidyverse)"
   ]
  },
  {
   "cell_type": "markdown",
   "metadata": {},
   "source": [
    "First, we'll open up a (GLATOS-style) detection file. Some of our detections are of sensor tags, and to avoid trouble later with mixed-type variables, we will be explicit about these irregular columns and what type we want them to be when we bring in our file."
   ]
  },
  {
   "cell_type": "code",
   "execution_count": null,
   "metadata": {},
   "outputs": [],
   "source": [
    "# We need to define these as the first 1000 rows don't have any data so read_csv thinks they are logicals\n",
    "col_specs <- cols( \n",
    "  sensor_value = col_character(),\n",
    "  sensor_unit = col_character(),\n",
    "  glatos_caught_date = col_date()\n",
    ")\n",
    "\n",
    "# Take a look at the data \n",
    "data <- read_csv(\"../data/detections.csv\",  col_types = col_specs)\n",
    "data"
   ]
  },
  {
   "cell_type": "markdown",
   "metadata": {},
   "source": [
    "## Setting up our dataframes\n",
    "Here we'll set the file path and name for each of the files we want to open, and then pass those to read_csv and store our three datasets in separate variables. For the source files we didn't specify column types for, R gives us a breakdown of how it treated each column when it ingested them."
   ]
  },
  {
   "cell_type": "code",
   "execution_count": null,
   "metadata": {},
   "outputs": [],
   "source": [
    "dets_file <- file.path('../data', 'detections.csv')\n",
    "rcv_file <- file.path('../data', 'deployments.csv')\n",
    "tags_file <- file.path('../data', 'animal_tags.csv')\n",
    "\n",
    "dets <- read_csv(dets_file, col_types = col_specs) # detections from acoustic receivers\n",
    "Rxdeploy <- read_csv(rcv_file) # receiver station info\n",
    "tags <- read_csv(tags_file) # tagged fish data"
   ]
  },
  {
   "cell_type": "markdown",
   "metadata": {},
   "source": [
    "Columns that are blank are cast to 'logical' by default. If you have sparsely populated columns in your dataset, or you're joining multiple data frames together, and some have data in these columns while others do not, you may not want them cast that way at all. In that case, you could use the code above to explicitly tell R how to treat these columns, even if they're empty sometimes."
   ]
  },
  {
   "cell_type": "markdown",
   "metadata": {},
   "source": [
    "## Investigating the Data by Eye\n",
    "Dataframes can be inspected visually using a few of the built-in functions. It's often preferable not to print an entire tabular dataset due to size, so a lot of these functions look only at slices or subsets of the data."
   ]
  },
  {
   "cell_type": "code",
   "execution_count": null,
   "metadata": {},
   "outputs": [],
   "source": [
    "# Peek at the first few rows of data in the detections file\n",
    "head(dets)"
   ]
  },
  {
   "cell_type": "code",
   "execution_count": null,
   "metadata": {},
   "outputs": [],
   "source": [
    "# Peek at the last few rows of data\n",
    "tail(dets)"
   ]
  },
  {
   "cell_type": "markdown",
   "metadata": {},
   "source": [
    "`str()` gives you a detailed list of the size of the dataframe, the factors of each column, and their type, and a peek at the first few values."
   ]
  },
  {
   "cell_type": "code",
   "execution_count": null,
   "metadata": {},
   "outputs": [],
   "source": [
    "str(dets)"
   ]
  },
  {
   "cell_type": "markdown",
   "metadata": {},
   "source": [
    "GLATOS data files give you a lot of animal morphology information joined to the detection events by default. In FACT-style data outputs, you'll have to join this data in from your tag details."
   ]
  },
  {
   "cell_type": "code",
   "execution_count": null,
   "metadata": {},
   "outputs": [],
   "source": [
    "# You can also zero-in on rows by their index using ranges. Specify your by [firstrow:lastrow,firstcolumn:lastcolumn]\n",
    "dets[1:10,]"
   ]
  },
  {
   "cell_type": "code",
   "execution_count": null,
   "metadata": {},
   "outputs": [],
   "source": [
    "# You can pick out a few select columns using a collection of the column names you want.\n",
    "dets[c('detection_timestamp_utc', 'animal_id', 'glatos_array', 'station_no')]  "
   ]
  },
  {
   "cell_type": "markdown",
   "metadata": {},
   "source": [
    "Review the other two component datasets for this project. \n",
    "Are there any variables you'd want to cast to different types?"
   ]
  },
  {
   "cell_type": "code",
   "execution_count": null,
   "metadata": {},
   "outputs": [],
   "source": [
    "head(Rxdeploy)"
   ]
  },
  {
   "cell_type": "code",
   "execution_count": null,
   "metadata": {},
   "outputs": [],
   "source": [
    "head(tags)"
   ]
  },
  {
   "cell_type": "markdown",
   "metadata": {},
   "source": [
    "## More ways of summarizing the data\n",
    "Fetch the full set of unique values for a column using the `unique()` function."
   ]
  },
  {
   "cell_type": "code",
   "execution_count": null,
   "metadata": {},
   "outputs": [],
   "source": [
    "unique(dets$animal_id)"
   ]
  },
  {
   "cell_type": "markdown",
   "metadata": {},
   "source": [
    "We can then filter out all the receivers that are not associated with any detections using the min and max of detection_timestamp_utc."
   ]
  },
  {
   "cell_type": "code",
   "execution_count": null,
   "metadata": {},
   "outputs": [],
   "source": [
    "filtered_rx <- Rxdeploy %>% \n",
    "    filter(deploy_date_time >= min(dets$detection_timestamp_utc),\n",
    "           recover_date_time <= max(dets$detection_timestamp_utc))\n",
    "filtered_rx"
   ]
  },
  {
   "cell_type": "markdown",
   "metadata": {},
   "source": [
    "Now we can do some summaries."
   ]
  },
  {
   "cell_type": "code",
   "execution_count": null,
   "metadata": {},
   "outputs": [],
   "source": [
    "dets_with_stations <- left_join(dets, filtered_rx)\n",
    "\n",
    "if (nrow(dets) != nrow(dets_with_stations)) {\n",
    "    print(\"Datasets are not equal in length\")\n",
    "} else {\n",
    "    print(\"Datasets are equal in length\")\n",
    "}"
   ]
  },
  {
   "cell_type": "code",
   "execution_count": null,
   "metadata": {},
   "outputs": [],
   "source": [
    "summarised_by_animal_station <- dets_with_stations %>%\n",
    "    group_by(animal_id, station) %>%\n",
    "    summarise(number.of.detections=n())\n",
    "summarised_by_animal_station"
   ]
  },
  {
   "cell_type": "code",
   "execution_count": null,
   "metadata": {},
   "outputs": [],
   "source": [
    "summarise_by_array <- dets_with_stations %>%\n",
    "    group_by(glatos_array) %>%\n",
    "    summarise(number.of.detections=n())\n",
    "summarise_by_array"
   ]
  },
  {
   "cell_type": "markdown",
   "metadata": {},
   "source": [
    "We can create a summary of detections by animal and month. We will need to create a new column to keep track of month and year."
   ]
  },
  {
   "cell_type": "code",
   "execution_count": null,
   "metadata": {},
   "outputs": [],
   "source": [
    "dets_with_stations <- dets_with_stations %>%\n",
    "    mutate(\n",
    "        month=strftime(detection_timestamp_utc, format=\"%Y-%m\"))\n",
    "\n",
    "summarise_by_month <- dets_with_stations %>%\n",
    "    group_by(animal_id, month) %>%\n",
    "    summarise(number.of.detections=n())\n",
    "summarise_by_month"
   ]
  },
  {
   "cell_type": "code",
   "execution_count": null,
   "metadata": {},
   "outputs": [],
   "source": []
  }
 ],
 "metadata": {
  "kernelspec": {
   "display_name": "R",
   "language": "R",
   "name": "ir"
  },
  "language_info": {
   "codemirror_mode": "r",
   "file_extension": ".r",
   "mimetype": "text/x-r-source",
   "name": "R",
   "pygments_lexer": "r",
   "version": "3.6.0"
  }
 },
 "nbformat": 4,
 "nbformat_minor": 2
}
