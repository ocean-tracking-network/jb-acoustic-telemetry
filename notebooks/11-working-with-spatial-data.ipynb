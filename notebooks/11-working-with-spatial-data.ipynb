{
 "cells": [
  {
   "cell_type": "code",
   "execution_count": null,
   "metadata": {},
   "outputs": [],
   "source": [
    "install.packages('geojsonio')\n",
    "\n",
    "library(tidyverse)\n",
    "library(sf)"
   ]
  },
  {
   "cell_type": "code",
   "execution_count": null,
   "metadata": {},
   "outputs": [],
   "source": [
    "Rxdeploy <- read_csv(\"../data/deployments.csv\") #receiver station info\n",
    "\n",
    "Rxdeploy"
   ]
  },
  {
   "cell_type": "code",
   "execution_count": null,
   "metadata": {},
   "outputs": [],
   "source": [
    "# Now lets convert this tibble into a spatial object\n",
    "rec_sf <-\n",
    "  Rxdeploy %>% \n",
    "  st_as_sf(coords = c(\"deploy_long\", \"deploy_lat\")) ## specify which columns contain the longitude and latitude data"
   ]
  },
  {
   "cell_type": "code",
   "execution_count": null,
   "metadata": {},
   "outputs": [],
   "source": [
    "rec_sf"
   ]
  },
  {
   "cell_type": "code",
   "execution_count": null,
   "metadata": {},
   "outputs": [],
   "source": [
    "plot(rec_sf[\"glatos_array\"])"
   ]
  },
  {
   "cell_type": "code",
   "execution_count": null,
   "metadata": {},
   "outputs": [],
   "source": [
    "rec_sf <-\n",
    "  Rxdeploy %>% \n",
    "  st_as_sf(coords = c(\"deploy_long\", \"deploy_lat\"),\n",
    "           crs = 4326)    ## specify your epsg code in the crs parameter \n",
    "\n",
    "rec_sf\n",
    "\n",
    "plot(rec_sf[\"glatos_array\"])"
   ]
  },
  {
   "cell_type": "code",
   "execution_count": null,
   "metadata": {},
   "outputs": [],
   "source": [
    "library(mapview)"
   ]
  },
  {
   "cell_type": "code",
   "execution_count": null,
   "metadata": {},
   "outputs": [],
   "source": [
    "mapshot(mapview(rec_sf), url=\"rec_sf.html\")"
   ]
  },
  {
   "cell_type": "code",
   "execution_count": null,
   "metadata": {},
   "outputs": [],
   "source": [
    "mapshot(mapview(rec_sf, \n",
    "        zcol = \"glatos_project\",\n",
    "        burst = TRUE), url=\"rec_sf_with_zcol.html\")"
   ]
  }
 ],
 "metadata": {
  "kernelspec": {
   "display_name": "R",
   "language": "R",
   "name": "ir"
  },
  "language_info": {
   "codemirror_mode": "r",
   "file_extension": ".r",
   "mimetype": "text/x-r-source",
   "name": "R",
   "pygments_lexer": "r",
   "version": "3.6.1"
  }
 },
 "nbformat": 4,
 "nbformat_minor": 2
}
