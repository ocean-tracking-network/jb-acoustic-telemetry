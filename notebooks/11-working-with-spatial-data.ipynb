{
 "cells": [
  {
   "cell_type": "code",
   "execution_count": null,
   "metadata": {},
   "outputs": [],
   "source": [
    "# install.packages('geojsonio')\n",
    "\n",
    "library(tidyverse)\n",
    "library(sf)"
   ]
  },
  {
   "cell_type": "code",
   "execution_count": null,
   "metadata": {
    "scrolled": true
   },
   "outputs": [],
   "source": [
    "Rxdeploy <- read_csv(\"../data/deployments.csv\") #receiver station info\n",
    "\n",
    "Rxdeploy"
   ]
  },
  {
   "cell_type": "code",
   "execution_count": null,
   "metadata": {},
   "outputs": [],
   "source": [
    "# Now lets convert this tibble into a spatial object\n",
    "rec_sf <-\n",
    "  Rxdeploy %>% \n",
    "  st_as_sf(coords = c(\"deploy_long\", \"deploy_lat\")) ## specify which columns contain the longitude and latitude data"
   ]
  },
  {
   "cell_type": "code",
   "execution_count": null,
   "metadata": {},
   "outputs": [],
   "source": [
    "rec_sf"
   ]
  },
  {
   "cell_type": "code",
   "execution_count": null,
   "metadata": {},
   "outputs": [],
   "source": [
    "plot(rec_sf[\"glatos_array\"])"
   ]
  },
  {
   "cell_type": "code",
   "execution_count": null,
   "metadata": {},
   "outputs": [],
   "source": [
    "rec_sf <-\n",
    "  Rxdeploy %>% \n",
    "  st_as_sf(coords = c(\"deploy_long\", \"deploy_lat\"),\n",
    "           crs = 4326)    ## specify your epsg code in the crs parameter \n",
    "\n",
    "rec_sf"
   ]
  },
  {
   "cell_type": "code",
   "execution_count": null,
   "metadata": {},
   "outputs": [],
   "source": [
    "plot(rec_sf[\"glatos_array\"])"
   ]
  },
  {
   "cell_type": "code",
   "execution_count": null,
   "metadata": {},
   "outputs": [],
   "source": [
    "library(mapview)"
   ]
  },
  {
   "cell_type": "code",
   "execution_count": null,
   "metadata": {},
   "outputs": [],
   "source": [
    "mapshot(mapview(rec_sf), url=\"rec_sf.html\")"
   ]
  },
  {
   "cell_type": "code",
   "execution_count": null,
   "metadata": {},
   "outputs": [],
   "source": [
    "mapshot(mapview(rec_sf, \n",
    "        zcol = \"glatos_project\",\n",
    "        burst = TRUE), url=\"rec_sf_with_zcol.html\")"
   ]
  },
  {
   "cell_type": "markdown",
   "metadata": {},
   "source": [
    "<h2>Links to maps</h2><br>\n",
    "<p>Please ensure you have run the 2 mapshot functions. Shift/CTRL/CMD-click to open in new tab</p><br>\n",
    "<a href=\"rec_sf.html\" target=\"_blank\" >Rec SF</a><br>\n",
    "<a href=\"rec_sf_with_zcol.html\" target=\"_blank\">Rec SF by Animal ID</a>\n"
   ]
  },
  {
   "cell_type": "code",
   "execution_count": null,
   "metadata": {},
   "outputs": [],
   "source": [
    "mapview(rec_sf)"
   ]
  },
  {
   "cell_type": "code",
   "execution_count": null,
   "metadata": {},
   "outputs": [],
   "source": []
  }
 ],
 "metadata": {
  "kernelspec": {
   "display_name": "R",
   "language": "R",
   "name": "ir"
  },
  "language_info": {
   "codemirror_mode": "r",
   "file_extension": ".r",
   "mimetype": "text/x-r-source",
   "name": "R",
   "pygments_lexer": "r",
   "version": "3.6.0"
  }
 },
 "nbformat": 4,
 "nbformat_minor": 2
}
